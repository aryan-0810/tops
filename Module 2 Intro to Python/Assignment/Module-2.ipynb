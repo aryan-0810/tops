{
 "cells": [
  {
   "cell_type": "code",
   "execution_count": 8,
   "id": "bdcd7b95",
   "metadata": {},
   "outputs": [
    {
     "name": "stdout",
     "output_type": "stream",
     "text": [
      "the sum of 5 positive number is: 15\n"
     ]
    }
   ],
   "source": [
    "n =int(input(\"enter a positive number\"))\n",
    "if n>0:\n",
    "    total = 0\n",
    "    for i in range(1, n + 1):\n",
    "        total +=i\n",
    "    print(\"the sum of\",n,\"positive number is:\", total)\n",
    "else:\n",
    "    print(\"please enter valid numbers\")"
   ]
  },
  {
   "cell_type": "code",
   "execution_count": null,
   "id": "a383014a",
   "metadata": {},
   "outputs": [],
   "source": []
  }
 ],
 "metadata": {
  "kernelspec": {
   "display_name": "Python 3",
   "language": "python",
   "name": "python3"
  },
  "language_info": {
   "codemirror_mode": {
    "name": "ipython",
    "version": 3
   },
   "file_extension": ".py",
   "mimetype": "text/x-python",
   "name": "python",
   "nbconvert_exporter": "python",
   "pygments_lexer": "ipython3",
   "version": "3.12.3"
  }
 },
 "nbformat": 4,
 "nbformat_minor": 5
}
