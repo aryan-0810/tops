{
 "cells": [
  {
   "cell_type": "code",
   "execution_count": 1,
   "id": "f60677bd",
   "metadata": {},
   "outputs": [
    {
     "name": "stdout",
     "output_type": "stream",
     "text": [
      "The sum of the first 5 positive integers is: 15\n"
     ]
    }
   ],
   "source": [
    "n = int(input(\"Enter a positive integer: \"))\n",
    "\n",
    "sum_n = n * (n + 1) // 2\n",
    "print(\"The sum of the first\", n, \"positive integers is:\", sum_n)\n"
   ]
  },
  {
   "cell_type": "code",
   "execution_count": 3,
   "id": "4086fe8a",
   "metadata": {},
   "outputs": [
    {
     "name": "stdout",
     "output_type": "stream",
     "text": [
      "The substring appears 1 times.\n"
     ]
    }
   ],
   "source": [
    "main_string = input(\"Enter the main string: \")\n",
    "substring = input(\"Enter the substring to count: \")\n",
    "\n",
    "count = main_string.count(substring)\n",
    "\n",
    "print(\"The substring appears\", count, \"times.\")\n"
   ]
  },
  {
   "cell_type": "code",
   "execution_count": 7,
   "id": "7480205f",
   "metadata": {},
   "outputs": [
    {
     "name": "stdout",
     "output_type": "stream",
     "text": [
      "i : 1\n",
      "am : 1\n",
      "a : 1\n",
      "good : 1\n",
      "boy : 1\n"
     ]
    }
   ],
   "source": [
    "sentence = input(\"Enter a sentence: \")\n",
    "\n",
    "words = sentence.split()\n",
    "word_count = {}\n",
    "\n",
    "for word in words:\n",
    "    if word in word_count:\n",
    "        word_count[word] += 1\n",
    "    else:\n",
    "        word_count[word] = 1\n",
    "\n",
    "for word, count in word_count.items():\n",
    "    print(word, \":\", count)\n"
   ]
  },
  {
   "cell_type": "code",
   "execution_count": 8,
   "id": "94655910",
   "metadata": {},
   "outputs": [
    {
     "name": "stdout",
     "output_type": "stream",
     "text": [
      "Result: yuyan  arg\n"
     ]
    }
   ],
   "source": [
    "string1 = input(\"Enter the first string: \")\n",
    "string2 = input(\"Enter the second string: \")\n",
    "\n",
    "new_string1 = string2[:2] + string1[2:]\n",
    "new_string2 = string1[:2] + string2[2:]\n",
    "\n",
    "result = new_string1 + \" \" + new_string2\n",
    "\n",
    "print(\"Result:\", result)\n"
   ]
  },
  {
   "cell_type": "code",
   "execution_count": 10,
   "id": "a12ecb34",
   "metadata": {},
   "outputs": [
    {
     "name": "stdout",
     "output_type": "stream",
     "text": [
      "Result: i am danceing\n"
     ]
    }
   ],
   "source": [
    "text = input(\"Enter a string: \")\n",
    "\n",
    "if len(text) < 3:\n",
    "    result = text\n",
    "elif text.endswith(\"ing\"):\n",
    "    result = text + \"ly\"\n",
    "else:\n",
    "    result = text + \"ing\"\n",
    "\n",
    "print(\"Result:\", result)\n"
   ]
  },
  {
   "cell_type": "code",
   "execution_count": 11,
   "id": "2bfd36bb",
   "metadata": {},
   "outputs": [
    {
     "name": "stdout",
     "output_type": "stream",
     "text": [
      "Result: the car is good\n"
     ]
    }
   ],
   "source": [
    "text = input(\"Enter a string: \")\n",
    "\n",
    "not_pos = text.find('not')\n",
    "poor_pos = text.find('poor')\n",
    "\n",
    "if not_pos != -1 and poor_pos != -1 and not_pos < poor_pos:\n",
    "   \n",
    "    result = text[:not_pos] + 'good' + text[poor_pos + 4:]\n",
    "else:\n",
    "    result = text\n",
    "\n",
    "print(\"Result:\", result)\n"
   ]
  },
  {
   "cell_type": "code",
   "execution_count": 12,
   "id": "fddc557a",
   "metadata": {},
   "outputs": [
    {
     "name": "stdout",
     "output_type": "stream",
     "text": [
      "The GCD of 5 and 10 is: 5\n"
     ]
    }
   ],
   "source": [
    "num1 = int(input(\"Enter first number: \"))\n",
    "num2 = int(input(\"Enter second number: \"))\n",
    "\n",
    "def find_gcd(a, b):\n",
    "    while b != 0:\n",
    "        a, b = b, a % b\n",
    "    return a\n",
    "\n",
    "gcd = find_gcd(num1, num2)\n",
    "print(\"The GCD of\", num1, \"and\", num2, \"is:\", gcd)\n"
   ]
  },
  {
   "cell_type": "code",
   "execution_count": null,
   "id": "2b4fc65a",
   "metadata": {},
   "outputs": [
    {
     "name": "stdout",
     "output_type": "stream",
     "text": [
      "The main list contains the sublist.\n"
     ]
    }
   ],
   "source": [
    "def contains_sublist(main_list, sub_list):\n",
    "    sub_len = len(sub_list)\n",
    "    for i in range(len(main_list) - sub_len + 1):\n",
    "        if main_list[i:i+sub_len] == sub_list:\n",
    "            return True\n",
    "    return False\n",
    "\n",
    "main_list = [1, 2, 3, 4, 5]\n",
    "sub_list = [3, 4]\n",
    "\n",
    "if contains_sublist(main_list, sub_list):\n",
    "    print(\"The main list contains the sublist.\")\n",
    "else:\n",
    "    print(\"The main list does NOT contain the sublist.\")\n"
   ]
  },
  {
   "cell_type": "code",
   "execution_count": 16,
   "id": "787b55c2",
   "metadata": {},
   "outputs": [
    {
     "name": "stdout",
     "output_type": "stream",
     "text": [
      "The second smallest number is: 2\n"
     ]
    }
   ],
   "source": [
    "numbers = list(map(int, input(\"Enter numbers separated by spaces: \").split()))\n",
    "\n",
    "unique_numbers = list(set(numbers))\n",
    "unique_numbers.sort()\n",
    "\n",
    "if len(unique_numbers) >= 2:\n",
    "    print(\"The second smallest number is:\", unique_numbers[1])\n",
    "else:\n",
    "    print(\"There is no second smallest number.\")\n"
   ]
  },
  {
   "cell_type": "code",
   "execution_count": 17,
   "id": "c8165174",
   "metadata": {},
   "outputs": [
    {
     "name": "stdout",
     "output_type": "stream",
     "text": [
      "Unique values: ['audi', 'hyundai', 'bmw']\n"
     ]
    }
   ],
   "source": [
    "values = input(\"Enter values separated by spaces: \").split()\n",
    "\n",
    "unique_values = list(set(values))\n",
    "\n",
    "print(\"Unique values:\", unique_values)\n"
   ]
  },
  {
   "cell_type": "code",
   "execution_count": 18,
   "id": "92713b95",
   "metadata": {},
   "outputs": [
    {
     "name": "stdout",
     "output_type": "stream",
     "text": [
      "First list: [1, 2, 3]\n",
      "Second list: ['a', 'b', 'c']\n"
     ]
    }
   ],
   "source": [
    "list_of_tuples = [(1, 'a'), (2, 'b'), (3, 'c')]\n",
    "\n",
    "list1, list2 = zip(*list_of_tuples)\n",
    "\n",
    "list1 = list(list1)\n",
    "list2 = list(list2)\n",
    "\n",
    "print(\"First list:\", list1)\n",
    "print(\"Second list:\", list2)\n"
   ]
  },
  {
   "cell_type": "code",
   "execution_count": 19,
   "id": "88d3a8db",
   "metadata": {},
   "outputs": [
    {
     "name": "stdout",
     "output_type": "stream",
     "text": [
      "{'a': 1, 'b': 2, 'c': 3}\n"
     ]
    }
   ],
   "source": [
    "list_of_tuples = [('a', 1), ('b', 2), ('c', 3)]\n",
    "\n",
    "dictionary = dict(list_of_tuples)\n",
    "\n",
    "print(dictionary)\n"
   ]
  },
  {
   "cell_type": "code",
   "execution_count": 20,
   "id": "f2537a9d",
   "metadata": {},
   "outputs": [
    {
     "name": "stdout",
     "output_type": "stream",
     "text": [
      "Ascending order: {'banana': 2, 'date': 3, 'apple': 5, 'cherry': 8}\n",
      "Descending order: {'cherry': 8, 'apple': 5, 'date': 3, 'banana': 2}\n"
     ]
    }
   ],
   "source": [
    "my_dict = {'apple': 5, 'banana': 2, 'cherry': 8, 'date': 3}\n",
    "\n",
    "asc_sorted = dict(sorted(my_dict.items(), key=lambda item: item[1]))\n",
    "\n",
    "desc_sorted = dict(sorted(my_dict.items(), key=lambda item: item[1], reverse=True))\n",
    "\n",
    "print(\"Ascending order:\", asc_sorted)\n",
    "print(\"Descending order:\", desc_sorted)\n"
   ]
  },
  {
   "cell_type": "code",
   "execution_count": 21,
   "id": "8846380e",
   "metadata": {},
   "outputs": [
    {
     "name": "stdout",
     "output_type": "stream",
     "text": [
      "Top 3 highest values:\n",
      "fig : 15\n",
      "banana : 12\n",
      "cherry : 8\n"
     ]
    }
   ],
   "source": [
    "my_dict = {'apple': 5, 'banana': 12, 'cherry': 8, 'date': 3, 'fig': 15}\n",
    "\n",
    "top_3 = sorted(my_dict.items(), key=lambda item: item[1], reverse=True)[:3]\n",
    "\n",
    "print(\"Top 3 highest values:\")\n",
    "for key, value in top_3:\n",
    "    print(key, \":\", value)\n"
   ]
  },
  {
   "cell_type": "code",
   "execution_count": 22,
   "id": "4642b453",
   "metadata": {},
   "outputs": [
    {
     "name": "stdout",
     "output_type": "stream",
     "text": [
      "First few Fibonacci numbers are: 0, 1, 1, 2, 3, 5, 8, 13, 21, 34, 55\n"
     ]
    }
   ],
   "source": [
    "n = int(input(\"Enter the number n: \"))\n",
    "\n",
    "fib_series = [0, 1]\n",
    "\n",
    "for i in range(2, n+1):\n",
    "    next_num = fib_series[i-1] + fib_series[i-2]\n",
    "    fib_series.append(next_num)\n",
    "\n",
    "print(\"First few Fibonacci numbers are:\", \", \".join(map(str, fib_series)))\n"
   ]
  },
  {
   "cell_type": "code",
   "execution_count": 23,
   "id": "9d9dd8ff",
   "metadata": {},
   "outputs": [
    {
     "name": "stdout",
     "output_type": "stream",
     "text": [
      "1 : 5 , 2 : 4 , 3 : 3 , 4 : 3 , 5 : 2\n"
     ]
    }
   ],
   "source": [
    "numbers = [1, 1, 1, 5, 5, 3, 1, 3, 3, 1, 4, 4, 4, 2, 2, 2, 2]\n",
    "\n",
    "frequency = {}\n",
    "\n",
    "for num in numbers:\n",
    "    if num in frequency:\n",
    "        frequency[num] += 1\n",
    "    else:\n",
    "        frequency[num] = 1\n",
    "\n",
    "for key in sorted(frequency.keys()):\n",
    "    print(f\"{key} : {frequency[key]}\", end=\" , \" if key != max(frequency.keys()) else \"\\n\")\n"
   ]
  },
  {
   "cell_type": "code",
   "execution_count": 24,
   "id": "e927f211",
   "metadata": {},
   "outputs": [
    {
     "name": "stdout",
     "output_type": "stream",
     "text": [
      "Sum of the odd series (first 2 terms): 2.5\n",
      "Sum of the even series (first 2 terms): 2.6666666666666665\n"
     ]
    }
   ],
   "source": [
    "import math\n",
    "\n",
    "def odd_series_sum(n):\n",
    "    total = 0\n",
    "    for i in range(1, 2*n, 2):  \n",
    "        total += (i ** 2) / math.factorial(i)\n",
    "    return total\n",
    "\n",
    "def even_series_sum(n):\n",
    "    total = 0\n",
    "    for i in range(2, 2*n + 1, 2):\n",
    "        total += (i ** 2) / math.factorial(i)\n",
    "    return total\n",
    "\n",
    "n = int(input(\"Enter the number of terms (n): \"))\n",
    "\n",
    "odd_sum = odd_series_sum(n)\n",
    "even_sum = even_series_sum(n)\n",
    "\n",
    "print(f\"Sum of the odd series (first {n} terms): {odd_sum}\")\n",
    "print(f\"Sum of the even series (first {n} terms): {even_sum}\")\n"
   ]
  },
  {
   "cell_type": "code",
   "execution_count": 27,
   "id": "1889e1d3",
   "metadata": {},
   "outputs": [
    {
     "name": "stdout",
     "output_type": "stream",
     "text": [
      "Factorial of 5 is 120\n"
     ]
    }
   ],
   "source": [
    "def factorial(n):\n",
    "    if n == 0 or n == 1: \n",
    "        return 1\n",
    "    else:\n",
    "        return n * factorial(n - 1) \n",
    "\n",
    "num = int(input(\"Enter a non-negative integer: \"))\n",
    "\n",
    "if num < 0:\n",
    "    print(\"Factorial is not defined for negative numbers.\")\n",
    "else:\n",
    "    print(f\"Factorial of {num} is {factorial(num)}\")\n"
   ]
  },
  {
   "cell_type": "code",
   "execution_count": 29,
   "id": "c7e34cd2",
   "metadata": {},
   "outputs": [
    {
     "name": "stdout",
     "output_type": "stream",
     "text": [
      "Original list: [1, 2, 2, 3, 4, 4, 5, 1, 6]\n",
      "Unique elements: [1, 2, 3, 4, 5, 6]\n"
     ]
    }
   ],
   "source": [
    "def unique_elements(lst):\n",
    "    unique_list = []\n",
    "    seen = set()\n",
    "    for item in lst:\n",
    "        if item not in seen:\n",
    "            unique_list.append(item)\n",
    "            seen.add(item)\n",
    "    return unique_list\n",
    "\n",
    "my_list = [1, 2, 2, 3, 4, 4, 5, 1, 6]\n",
    "print(\"Original list:\", my_list)\n",
    "print(\"Unique elements:\", unique_elements(my_list))\n"
   ]
  },
  {
   "cell_type": "code",
   "execution_count": 30,
   "id": "e89f8887",
   "metadata": {},
   "outputs": [
    {
     "name": "stdout",
     "output_type": "stream",
     "text": [
      "\n",
      "User details:\n",
      "User ID: aryan001, Name: Aryan, Password: 0\\a8R00A8n_Y\n"
     ]
    }
   ],
   "source": [
    "import random\n",
    "import string\n",
    "\n",
    "class User:\n",
    "    def __init__(self, user_id, name, password):\n",
    "        self.details = (user_id, name, password)\n",
    "\n",
    "    def __str__(self):\n",
    "        return f\"User ID: {self.details[0]}, Name: {self.details[1]}, Password: {self.details[2]}\"\n",
    "\n",
    "def generate_password(user_input):\n",
    "    words = user_input.split()\n",
    "\n",
    "    if not words:\n",
    "        raise ValueError(\"Input must contain at least one word.\")\n",
    "\n",
    "    num_words = random.choice([2, 3]) if len(words) >= 3 else 2\n",
    "    selected_words = random.sample(words, min(num_words, len(words)))\n",
    "\n",
    "    password_words = []\n",
    "    for word in selected_words:\n",
    "    \n",
    "        new_word = ''.join(c.upper() if random.choice([True, False]) else c.lower() for c in word)\n",
    "        password_words.append(new_word)\n",
    "\n",
    "    password = ''.join(password_words)\n",
    "\n",
    "    digits = ''.join(random.choices(string.digits, k=2))\n",
    "    password += digits\n",
    "\n",
    "    specials = ''.join(random.choices(string.punctuation, k=2))\n",
    "    password += specials\n",
    "\n",
    "    while len(password) <= 8:\n",
    "        password += random.choice(string.ascii_letters)\n",
    "\n",
    "    password_list = list(password)\n",
    "    random.shuffle(password_list)\n",
    "    password = ''.join(password_list)\n",
    "\n",
    "    return password\n",
    "\n",
    "def main():\n",
    "    try:\n",
    "        user_id = input(\"Enter user ID: \").strip()\n",
    "        if not user_id:\n",
    "            raise ValueError(\"User ID cannot be empty.\")\n",
    "\n",
    "        name = input(\"Enter your name: \").strip()\n",
    "        if not name:\n",
    "            raise ValueError(\"Name cannot be empty.\")\n",
    "\n",
    "        user_input = input(\"Enter some words to generate password: \").strip()\n",
    "        if not user_input:\n",
    "            raise ValueError(\"Input cannot be empty.\")\n",
    "\n",
    "        password = generate_password(user_input)\n",
    "        user = User(user_id, name, password)\n",
    "\n",
    "        print(\"\\nUser details:\")\n",
    "        print(user)\n",
    "\n",
    "    except Exception as e:\n",
    "        print(\"Error:\", e)\n",
    "\n",
    "if __name__ == \"__main__\":\n",
    "    main()\n"
   ]
  }
 ],
 "metadata": {
  "kernelspec": {
   "display_name": "Python 3",
   "language": "python",
   "name": "python3"
  },
  "language_info": {
   "codemirror_mode": {
    "name": "ipython",
    "version": 3
   },
   "file_extension": ".py",
   "mimetype": "text/x-python",
   "name": "python",
   "nbconvert_exporter": "python",
   "pygments_lexer": "ipython3",
   "version": "3.12.3"
  }
 },
 "nbformat": 4,
 "nbformat_minor": 5
}
